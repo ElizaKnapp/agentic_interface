{
 "cells": [
  {
   "cell_type": "markdown",
   "metadata": {},
   "source": [
    "### Imports"
   ]
  },
  {
   "cell_type": "code",
   "execution_count": 4,
   "metadata": {},
   "outputs": [
    {
     "name": "stderr",
     "output_type": "stream",
     "text": [
      "/Users/elizaknapp/miniconda3/envs/curr_ikigai/lib/python3.9/site-packages/tqdm/auto.py:21: TqdmWarning: IProgress not found. Please update jupyter and ipywidgets. See https://ipywidgets.readthedocs.io/en/stable/user_install.html\n",
      "  from .autonotebook import tqdm as notebook_tqdm\n"
     ]
    }
   ],
   "source": [
    "import yaml\n",
    "import pandas as pd\n",
    "from langchain_openai import ChatOpenAI\n",
    "from project_info import ProjectInfo\n",
    "from agentic_interface import AgenticInterface"
   ]
  },
  {
   "cell_type": "markdown",
   "metadata": {},
   "source": [
    "### ENV"
   ]
  },
  {
   "cell_type": "code",
   "execution_count": 5,
   "metadata": {},
   "outputs": [],
   "source": [
    "ENVIRONMENT = yaml.load(\n",
    "    open(\"../project.yaml\", \"r\"), Loader=yaml.FullLoader\n",
    ")\n",
    "IKIGAI_API_KEY = ENVIRONMENT[\"ikigai_api_key\"]\n",
    "OPENAI_API_KEY = ENVIRONMENT[\"openai_api_key\"]\n",
    "\n",
    "# Setup the llm \n",
    "llm = ChatOpenAI(api_key=OPENAI_API_KEY, temperature=0)\n",
    "json_llm = ChatOpenAI(api_key=OPENAI_API_KEY, temperature=0, model_kwargs={\"response_format\": {\"type\": \"json_object\"}})"
   ]
  },
  {
   "cell_type": "markdown",
   "metadata": {},
   "source": [
    "### Code"
   ]
  },
  {
   "cell_type": "markdown",
   "metadata": {},
   "source": [
    "This is a demo of asking 1 query to the agent"
   ]
  },
  {
   "cell_type": "code",
   "execution_count": 6,
   "metadata": {},
   "outputs": [],
   "source": [
    "# Get all of the project info\n",
    "user_email = \"eliza@ikigailabs.io\"\n",
    "target_project = \"Agentic Interface Test\"\n",
    "# target_project = \"Demo v2 [Functional]\"\n",
    "mapping_df = mapping = pd.read_csv(\"./uid_to_name.csv\")\n",
    "project_info = ProjectInfo(\n",
    "    user_email=user_email,\n",
    "    api_key=IKIGAI_API_KEY,\n",
    "    openai_api_key=OPENAI_API_KEY,\n",
    "    target_project=target_project,\n",
    "    mapping_df=mapping_df,\n",
    "    )"
   ]
  },
  {
   "cell_type": "code",
   "execution_count": 7,
   "metadata": {},
   "outputs": [
    {
     "name": "stdout",
     "output_type": "stream",
     "text": [
      "You asked: How do the average sales in January in the Midwest compare to the average sales in January in the South?\n",
      "Validating your query...\n",
      "Query is valid\n",
      "Finding a dataset to answer your question...\n",
      "Selected dataset: Sales\n",
      "Here is the description for your dataset: This dataset contains information about sales transactions of various products in different regions over a period of time. It includes details such as the product name, region, quantity sold, total revenue, total cost, and specific identifiers for each product. The dataset also includes timestamps for each transaction.\n",
      "Filtering dataset based on your question...\n",
      "Generating results based on your query...\n",
      "Finished generating code\n",
      "Finished running function on data\n",
      "Finalizing response to your question...\n",
      "Response finalized\n"
     ]
    }
   ],
   "source": [
    "agentic_interface = AgenticInterface(llm=llm, json_llm=json_llm, project_info=project_info)\n",
    "user_query = \"How do the average sales in January in the Midwest compare to the average sales in January in the South?\"\n",
    "response = agentic_interface.get_response(user_query)"
   ]
  },
  {
   "cell_type": "markdown",
   "metadata": {},
   "source": []
  },
  {
   "cell_type": "code",
   "execution_count": 17,
   "metadata": {},
   "outputs": [
    {
     "name": "stdout",
     "output_type": "stream",
     "text": [
      "The average sales in January in the Midwest were $20,609.71, while the average sales in January in the South were $21,575.49. Therefore, the average sales in January in the South were higher than in the Midwest. This comparison was made using the 'TotalRevenue' column in the dataset, which represents the total revenue generated from sales in January for each region.\n"
     ]
    }
   ],
   "source": [
    "print(response)"
   ]
  },
  {
   "cell_type": "code",
   "execution_count": 9,
   "metadata": {},
   "outputs": [],
   "source": [
    "# Save to logs\n",
    "agentic_interface.write_current_state_to_general_logs(\"./result_files/logs.txt\")"
   ]
  },
  {
   "cell_type": "markdown",
   "metadata": {},
   "source": [
    "Demonstration of asking a follow up question"
   ]
  },
  {
   "cell_type": "code",
   "execution_count": 18,
   "metadata": {},
   "outputs": [
    {
     "name": "stdout",
     "output_type": "stream",
     "text": [
      "You asked: What about in the Northeast also in January?\n",
      "Validating your query...\n",
      "Query is valid\n",
      "Finding a dataset to answer your question...\n",
      "Selected dataset: Sales\n",
      "Here is the description for your dataset: This dataset contains information about sales transactions of various products in different regions over a period of time. It includes details such as the product name, region, quantity sold, revenue generated, cost incurred, and the date of the transaction. The dataset also includes identifiers for each product sold.\n",
      "Filtering dataset based on your question...\n",
      "Generating results based on your query...\n",
      "Finished generating code\n",
      "Finished running function on data\n",
      "Finalizing response to your question...\n"
     ]
    },
    {
     "name": "stderr",
     "output_type": "stream",
     "text": [
      "<string>:6: SettingWithCopyWarning: \n",
      "A value is trying to be set on a copy of a slice from a DataFrame.\n",
      "Try using .loc[row_indexer,col_indexer] = value instead\n",
      "\n",
      "See the caveats in the documentation: https://pandas.pydata.org/pandas-docs/stable/user_guide/indexing.html#returning-a-view-versus-a-copy\n"
     ]
    },
    {
     "name": "stdout",
     "output_type": "stream",
     "text": [
      "Response finalized\n"
     ]
    }
   ],
   "source": [
    "follow_up_question = \"What about in the Northeast also in January?\"\n",
    "# Note that it saves the chat history!\n",
    "follow_up_response = agentic_interface.get_response(follow_up_question)"
   ]
  },
  {
   "cell_type": "code",
   "execution_count": 19,
   "metadata": {},
   "outputs": [
    {
     "name": "stdout",
     "output_type": "stream",
     "text": [
      "The average sales in January in the Northeast region were $41,008.14. This value was calculated by finding the mean of the total revenue generated from sales specifically in the Northeast region during the month of January in the dataset. The 'TotalRevenue' column was used to calculate this average sales figure for the Northeast region in January. Additionally, there were a total of 2,700 transactions and a total quantity sold of 525,769 units in the Northeast region during January.\n"
     ]
    }
   ],
   "source": [
    "print(follow_up_response)"
   ]
  },
  {
   "cell_type": "markdown",
   "metadata": {},
   "source": [
    "Next we will save the logs"
   ]
  },
  {
   "cell_type": "code",
   "execution_count": 12,
   "metadata": {},
   "outputs": [],
   "source": [
    "# General log saving\n",
    "agentic_interface.write_current_state_to_general_logs(\"./result_files/logs.txt\")"
   ]
  },
  {
   "cell_type": "code",
   "execution_count": 13,
   "metadata": {},
   "outputs": [],
   "source": [
    "# Log saving of the entire chat\n",
    "agentic_interface.upload_chat_history_to_file(\"./chat_history/demo_chat.csv\")"
   ]
  },
  {
   "cell_type": "code",
   "execution_count": 32,
   "metadata": {},
   "outputs": [
    {
     "name": "stdout",
     "output_type": "stream",
     "text": [
      "You asked: Figure out the average sales in the North Pole, not the Northeast\n",
      "Validating your query...\n",
      "Query is valid\n",
      "Finding a dataset to answer your question...\n",
      "Selected dataset: Sales\n",
      "Here is the description for your dataset: This dataset contains information about sales transactions of various products in different regions over a period of time. It includes details such as the product name, region, quantity sold, revenue generated, cost incurred, and the date of the transaction.\n",
      "Filtering dataset based on your question...\n",
      "Generating results based on your query...\n",
      "Function generation didn't work\n",
      "```python\n",
      "import pandas as pd\n",
      "\n",
      "def calculate_average_sales(dataframe):\n",
      "    # Convert 'Time' column to datetime\n",
      "    dataframe['Time'] = pd.to_datetime(dataframe['Time'])\n",
      "\n",
      "    # Filter for Region not equal to Northeast\n",
      "    filtered_df = dataframe[dataframe['Region'] != 'Northeast']\n",
      "\n",
      "    # Calculate average sales\n",
      "    average_sales = filtered_df['TotalRevenue'].mean()\n",
      "\n",
      "    # Additional details\n",
      "    additional_details = {\n",
      "        'Average Sales in North Pole': average_sales,\n",
      "        'Region Filtered': 'North Pole'\n",
      "    }\n",
      "\n",
      "    return additional_details\n",
      "\n",
      "# Call the function with the provided dataframe\n",
      "calculate_average_sales(dataframe)\n",
      "```\n",
      "Generating results based on your query...\n",
      "Finished generating code\n",
      "Finished running function on data\n",
      "Finalizing response to your question...\n",
      "Direct answer to your question could not be found. Generating relevant information...\n",
      "Relevant information generated\n"
     ]
    }
   ],
   "source": [
    "agentic_interface = AgenticInterface(llm=llm, json_llm=json_llm, project_info=project_info)\n",
    "user_query = \"Figure out the average sales in the North Pole, not the Northeast\"\n",
    "response = agentic_interface.get_response(user_query)"
   ]
  },
  {
   "cell_type": "code",
   "execution_count": 34,
   "metadata": {},
   "outputs": [
    {
     "name": "stdout",
     "output_type": "stream",
     "text": [
      "\n",
      "            Sorry we could not answer the query. Here is some relevant information\n",
      "            that might help you get started. While the North Pole is not typically included in traditional sales datasets due to its unique geographical location, we can still explore the concept of average sales in different regions. In the \"Sales\" dataset, you can analyze the average sales in various regions by filtering out the North Pole and focusing on regions like North America, Europe, Asia, etc. This can provide insights into regional sales performance and help identify trends and patterns in different markets.\n",
      "        \n"
     ]
    }
   ],
   "source": [
    "print(response)"
   ]
  },
  {
   "cell_type": "code",
   "execution_count": null,
   "metadata": {},
   "outputs": [],
   "source": []
  }
 ],
 "metadata": {
  "kernelspec": {
   "display_name": "curr_ikigai",
   "language": "python",
   "name": "python3"
  },
  "language_info": {
   "codemirror_mode": {
    "name": "ipython",
    "version": 3
   },
   "file_extension": ".py",
   "mimetype": "text/x-python",
   "name": "python",
   "nbconvert_exporter": "python",
   "pygments_lexer": "ipython3",
   "version": "3.9.21"
  }
 },
 "nbformat": 4,
 "nbformat_minor": 2
}
