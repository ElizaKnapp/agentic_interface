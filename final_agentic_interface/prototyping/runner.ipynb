{
 "cells": [
  {
   "cell_type": "markdown",
   "metadata": {},
   "source": [
    "### Imports"
   ]
  },
  {
   "cell_type": "code",
   "execution_count": 18,
   "metadata": {},
   "outputs": [],
   "source": [
    "import yaml\n",
    "import requests\n",
    "import pandas as pd\n",
    "from langchain_openai import ChatOpenAI\n",
    "from ikigai import Ikigai\n",
    "import json"
   ]
  },
  {
   "cell_type": "code",
   "execution_count": 19,
   "metadata": {},
   "outputs": [],
   "source": [
    "ENVIRONMENT = yaml.load(\n",
    "    open(\"project.yaml\", \"r\"), Loader=yaml.FullLoader\n",
    ")\n",
    "IKIGAI_API_KEY = ENVIRONMENT[\"ikigai_api_key\"]\n",
    "OPENAI_API_KEY = ENVIRONMENT[\"openai_api_key\"]"
   ]
  },
  {
   "cell_type": "markdown",
   "metadata": {},
   "source": [
    "### Get the data/flow information"
   ]
  },
  {
   "cell_type": "code",
   "execution_count": 20,
   "metadata": {},
   "outputs": [],
   "source": [
    "# Setup ikigai python client\n",
    "ikigai = Ikigai(user_email=\"eliza@ikigailabs.io\", api_key=IKIGAI_API_KEY)\n",
    "apps = ikigai.apps()\n",
    "# Pull from the functional demo v2 app for preliminary implementation\n",
    "demo_app = apps[\"Agentic Interface Test\"]"
   ]
  },
  {
   "cell_type": "code",
   "execution_count": 21,
   "metadata": {},
   "outputs": [],
   "source": [
    "# TODO: this is finicky– when we incorporate it, need to try catch\n",
    "\n",
    "# Get datasets\n",
    "datasets = demo_app.datasets()\n",
    "# Put the dataset into a dictionary where the keys are the dataset names\n",
    "# and the values dictionaries have random sample of 5 rows\n",
    "sampled_dataset_dict = dict()\n",
    "for dataset_name in datasets:\n",
    "    df = datasets[dataset_name].df()\n",
    "    sampled_dataset_dict[dataset_name] = df.sample(n=min(5,len(df.index)), random_state=42)"
   ]
  },
  {
   "cell_type": "code",
   "execution_count": 23,
   "metadata": {},
   "outputs": [],
   "source": [
    "# Define url to interact with ikigai apis\n",
    "BASE_URL = \"https://api.ikigailabs.io/\"\n",
    "headers = {\n",
    "            'User': \"eliza@ikigailabs.io\",\n",
    "            'Api-key': IKIGAI_API_KEY,\n",
    "            'Content-Type': 'application/json'\n",
    "        }\n",
    "# Go through each flow in the demo app\n",
    "flows = demo_app.flows()\n",
    "pipeline_definitions = dict()\n",
    "for flow in flows:\n",
    "    pipeline_id = flows[flow].flow_id\n",
    "    url = f\"{BASE_URL}/component/get-pipeline?project_id={demo_app.app_id}&pipeline_id={pipeline_id}\"\n",
    "    pipeline_response = requests.request(\"GET\", url, headers=headers)\n",
    "    if pipeline_response.status_code!=200:\n",
    "        print(\"Error getting pipeline\")\n",
    "    else:\n",
    "        pipeline_definition = pipeline_response.json()\n",
    "        pipeline_definitions[flow] = pipeline_definition"
   ]
  },
  {
   "cell_type": "markdown",
   "metadata": {},
   "source": [
    "#### Gather baseline knowledge about UIDs, facets, models"
   ]
  },
  {
   "cell_type": "code",
   "execution_count": 24,
   "metadata": {},
   "outputs": [],
   "source": [
    "model_specifics = pd.read_csv(\"data/model_specifics.csv\")"
   ]
  },
  {
   "cell_type": "code",
   "execution_count": 25,
   "metadata": {},
   "outputs": [],
   "source": [
    "model_uids = list(model_specifics[\"UID\"].unique())"
   ]
  },
  {
   "cell_type": "code",
   "execution_count": 26,
   "metadata": {},
   "outputs": [],
   "source": [
    "mapping = pd.read_csv(\"data/uid_to_name.csv\")\n",
    "uid_to_name = dict()\n",
    "for i in range(len(mapping.index)):\n",
    "    row = mapping.iloc[i]\n",
    "    uid_to_name[row[\"UID\"]] = row[\"Facet Name\"]"
   ]
  },
  {
   "cell_type": "code",
   "execution_count": 27,
   "metadata": {},
   "outputs": [],
   "source": [
    "facet_to_description = dict()\n",
    "for i in range(len(mapping.index)):\n",
    "    row = mapping.iloc[i]\n",
    "    facet_to_description[row[\"Facet Name\"]] = row[\"Description\"]"
   ]
  },
  {
   "cell_type": "markdown",
   "metadata": {},
   "source": [
    "#### Parse pipeline information to pass to llm"
   ]
  },
  {
   "cell_type": "code",
   "execution_count": 28,
   "metadata": {},
   "outputs": [],
   "source": [
    "def parse_pipeline_to_flat_json(pipeline_json, uid_to_name):\n",
    "    nodes = []\n",
    "    inputs_map = {}  # maps destination facet to list of source facets\n",
    "\n",
    "    # Build a mapping of destination → [sources]\n",
    "    for arrow in pipeline_json['pipeline']['definition']['arrows']:\n",
    "        source = f\"Facet {arrow['source']}\"\n",
    "        dest = f\"Facet {arrow['destination']}\"\n",
    "        inputs_map.setdefault(dest, []).append(source)\n",
    "\n",
    "    # Parse each facet into a node\n",
    "    for facet in pipeline_json['pipeline']['definition']['facets']:\n",
    "        facet_id = f\"Facet {facet['facet_id']}\"\n",
    "        facet_type = uid_to_name.get(facet['facet_uid'], 'Unknown')\n",
    "        dataset_name = facet['arguments'].get('dataset_name', facet['name'])\n",
    "        \n",
    "        node = {\n",
    "            \"id\": facet_id,\n",
    "            \"type\": facet_type\n",
    "        }\n",
    "\n",
    "        if facet_id in inputs_map:\n",
    "            node[\"inputs\"] = inputs_map[facet_id]\n",
    "\n",
    "        if dataset_name:\n",
    "            node[\"dataset_name\"] = dataset_name\n",
    "\n",
    "        nodes.append(node)\n",
    "\n",
    "    return nodes"
   ]
  },
  {
   "cell_type": "code",
   "execution_count": 29,
   "metadata": {},
   "outputs": [],
   "source": [
    "final_flow_structure = dict()\n",
    "# Go through each pipeline definition and make a json of the name -> json\n",
    "for name, pipeline_definition in pipeline_definitions.items():\n",
    "    final_flow_structure[name] = parse_pipeline_to_flat_json(pipeline_definition, uid_to_name)"
   ]
  },
  {
   "cell_type": "code",
   "execution_count": 30,
   "metadata": {},
   "outputs": [
    {
     "data": {
      "text/plain": [
       "{'Forecast Data': [{'id': 'Facet 0',\n",
       "   'type': 'IMPORTED',\n",
       "   'dataset_name': 'Sales'},\n",
       "  {'id': 'Facet 1', 'type': 'AI_CAST', 'inputs': ['Facet 0']},\n",
       "  {'id': 'Facet 2',\n",
       "   'type': 'EXPORTED',\n",
       "   'inputs': ['Facet 1'],\n",
       "   'dataset_name': 'forecasts'},\n",
       "  {'id': 'Facet 3',\n",
       "   'type': 'EXPORTED',\n",
       "   'inputs': ['Facet 1'],\n",
       "   'dataset_name': 'metrics'}],\n",
       " 'Test2': [{'id': 'Facet 0',\n",
       "   'type': 'IMPORTED',\n",
       "   'dataset_name': 'All scenario summary'},\n",
       "  {'id': 'Facet 1', 'type': 'PYTHON', 'inputs': ['Facet 0']},\n",
       "  {'id': 'Facet 2',\n",
       "   'type': 'EXPORTED',\n",
       "   'inputs': ['Facet 1'],\n",
       "   'dataset_name': 'output'}],\n",
       " 'Combine Info': [{'id': 'Facet 0',\n",
       "   'type': 'IMPORTED',\n",
       "   'dataset_name': 'forecasts'},\n",
       "  {'id': 'Facet 1', 'type': 'IMPORTED', 'dataset_name': 'Sales'},\n",
       "  {'id': 'Facet 2',\n",
       "   'type': 'PYTHON',\n",
       "   'inputs': ['Facet 0', 'Facet 1', 'Facet 4']},\n",
       "  {'id': 'Facet 3',\n",
       "   'type': 'EXPORTED',\n",
       "   'inputs': ['Facet 2'],\n",
       "   'dataset_name': 'full forecasts'},\n",
       "  {'id': 'Facet 4', 'type': 'IMPORTED', 'dataset_name': 'forecasts with aux'},\n",
       "  {'id': 'Facet 5',\n",
       "   'type': 'EXPORTED',\n",
       "   'inputs': ['Facet 2'],\n",
       "   'dataset_name': 'full aux forecasts'}],\n",
       " 'Aux Forecasts': [{'id': 'Facet 0',\n",
       "   'type': 'IMPORTED',\n",
       "   'dataset_name': 'aux data'},\n",
       "  {'id': 'Facet 1', 'type': 'IMPORTED', 'dataset_name': 'Sales'},\n",
       "  {'id': 'Facet 2', 'type': 'AI_CAST', 'inputs': ['Facet 1', 'Facet 4']},\n",
       "  {'id': 'Facet 3',\n",
       "   'type': 'EXPORTED',\n",
       "   'inputs': ['Facet 2'],\n",
       "   'dataset_name': 'forecasts with aux'},\n",
       "  {'id': 'Facet 4', 'type': 'RENAME_COLUMNS', 'inputs': ['Facet 0']},\n",
       "  {'id': 'Facet 5',\n",
       "   'type': 'EXPORTED',\n",
       "   'inputs': ['Facet 2'],\n",
       "   'dataset_name': 'metrics1'}]}"
      ]
     },
     "execution_count": 30,
     "metadata": {},
     "output_type": "execute_result"
    }
   ],
   "source": [
    "final_flow_structure"
   ]
  },
  {
   "cell_type": "code",
   "execution_count": 31,
   "metadata": {},
   "outputs": [
    {
     "name": "stdout",
     "output_type": "stream",
     "text": [
      "[{'id': 'Facet 0', 'type': 'IMPORTED', 'dataset_name': 'Sales'}, {'id': 'Facet 1', 'type': 'AI_CAST', 'inputs': ['Facet 0']}, {'id': 'Facet 2', 'type': 'EXPORTED', 'inputs': ['Facet 1'], 'dataset_name': 'forecasts'}, {'id': 'Facet 3', 'type': 'EXPORTED', 'inputs': ['Facet 1'], 'dataset_name': 'metrics'}]\n",
      "[{'id': 'Facet 0', 'type': 'IMPORTED', 'dataset_name': 'All scenario summary'}, {'id': 'Facet 1', 'type': 'PYTHON', 'inputs': ['Facet 0']}, {'id': 'Facet 2', 'type': 'EXPORTED', 'inputs': ['Facet 1'], 'dataset_name': 'output'}]\n",
      "[{'id': 'Facet 0', 'type': 'IMPORTED', 'dataset_name': 'forecasts'}, {'id': 'Facet 1', 'type': 'IMPORTED', 'dataset_name': 'Sales'}, {'id': 'Facet 2', 'type': 'PYTHON', 'inputs': ['Facet 0', 'Facet 1', 'Facet 4']}, {'id': 'Facet 3', 'type': 'EXPORTED', 'inputs': ['Facet 2'], 'dataset_name': 'full forecasts'}, {'id': 'Facet 4', 'type': 'IMPORTED', 'dataset_name': 'forecasts with aux'}, {'id': 'Facet 5', 'type': 'EXPORTED', 'inputs': ['Facet 2'], 'dataset_name': 'full aux forecasts'}]\n",
      "[{'id': 'Facet 0', 'type': 'IMPORTED', 'dataset_name': 'aux data'}, {'id': 'Facet 1', 'type': 'IMPORTED', 'dataset_name': 'Sales'}, {'id': 'Facet 2', 'type': 'AI_CAST', 'inputs': ['Facet 1', 'Facet 4']}, {'id': 'Facet 3', 'type': 'EXPORTED', 'inputs': ['Facet 2'], 'dataset_name': 'forecasts with aux'}, {'id': 'Facet 4', 'type': 'RENAME_COLUMNS', 'inputs': ['Facet 0']}, {'id': 'Facet 5', 'type': 'EXPORTED', 'inputs': ['Facet 2'], 'dataset_name': 'metrics1'}]\n"
     ]
    }
   ],
   "source": [
    "for item in final_flow_structure.values():\n",
    "    print(item)"
   ]
  },
  {
   "cell_type": "markdown",
   "metadata": {},
   "source": [
    "#### Get the relevant operation info"
   ]
  },
  {
   "cell_type": "code",
   "execution_count": 32,
   "metadata": {},
   "outputs": [],
   "source": [
    "# First get unique facets used\n",
    "facets = set()\n",
    "for item in final_flow_structure.values():\n",
    "    for value in item:\n",
    "        facets.add(value['type'])\n",
    "# Then create mapping\n",
    "relevant_facets = dict()\n",
    "for value in facets:\n",
    "    relevant_facets[value] = facet_to_description[value]"
   ]
  },
  {
   "cell_type": "code",
   "execution_count": 33,
   "metadata": {},
   "outputs": [
    {
     "data": {
      "text/plain": [
       "{'AI_CAST': 'Forecasting for time series data',\n",
       " 'RENAME_COLUMNS': 'Rename specified columns',\n",
       " 'IMPORTED': 'Import from platform',\n",
       " 'EXPORTED': 'Export data to a file on the ikigai platform',\n",
       " 'PYTHON': 'Input is created by python code'}"
      ]
     },
     "execution_count": 33,
     "metadata": {},
     "output_type": "execute_result"
    }
   ],
   "source": [
    "relevant_facets"
   ]
  },
  {
   "cell_type": "markdown",
   "metadata": {},
   "source": [
    "#### Now take the final flow structure and feed it to the llm "
   ]
  },
  {
   "cell_type": "code",
   "execution_count": 35,
   "metadata": {},
   "outputs": [],
   "source": [
    "# User query here!! \n",
    "# user_query = \"What are the metrics like for the aux forecasts?\"\n",
    "user_query = \"How do metrics for aux data compare in q1 vs q2?\""
   ]
  },
  {
   "cell_type": "code",
   "execution_count": 43,
   "metadata": {},
   "outputs": [],
   "source": [
    "# Structure the final flow structure in terms of prompting\n",
    "messages = []\n",
    "system_context_string = f\"\"\"\n",
    "You will be given a list of datasets. \n",
    "For each dataset you will be provided with a random sample of 5 rows of the dataframe.\n",
    "\n",
    "You will also be given a json that explains the way these datasets are all connected.\n",
    "Each key is the name of the flow (or dataset connection) and each value is a list of \n",
    "operations that happen inside of the flow. Often, the first action imports a specific dataset\n",
    "in some way. Then the final action exports a new dataset. Both of which exist in the aformentioned\n",
    "list of datasets Each item in the list of operations has an 'id' which is a unique identifier for the\n",
    "operation. It has a 'type' which explains which operation is being done. It has 'inputs' which is a list \n",
    "of the ids of the inputs to that operation. It has a 'dataset_name' which is the name of the input or \n",
    "output dataset that is directly associated with that operation. They exist mostly for import and export\n",
    "data operations.\n",
    "\n",
    "You will be given a list of descriptions of the operations that are listed under 'type' in \n",
    "the json. These will provide further context on exactly what is being done to the dataset.\n",
    "\n",
    "Understand the relationshipss between the datasets. Given a user query, be prepared to answer which\n",
    "dataset would contain the answer to this query.\n",
    "\"\"\"\n",
    "\n",
    "project_specific_string = f\"\"\"\n",
    "List of datasets\n",
    "{sampled_dataset_dict}\n",
    "\n",
    "Json explaining dataset connections:\n",
    "{final_flow_structure}\n",
    "\n",
    "Descriptions of operations:\n",
    "{relevant_facets}\n",
    "\n",
    "Remember, respond with the dataset that would contain the answer the user query.\n",
    "Consider carefully how the datasets are used in the context of the connections. If a dataset\n",
    "is not connected to others, it is less likely to be used.\n",
    "Choose the name of dataset from this list: {sampled_dataset_dict.keys()}\n",
    "Return a json in the following structure. {{ 'dataset': 'name of dataset' }}\n",
    "\"\"\"\n",
    "\n",
    "messages.append(('system', system_context_string + project_specific_string))\n",
    "\n",
    "messages.append(('human', user_query ))"
   ]
  },
  {
   "cell_type": "code",
   "execution_count": 44,
   "metadata": {},
   "outputs": [
    {
     "data": {
      "text/plain": [
       "[('system',\n",
       "  \"\\nYou will be given a list of datasets. \\nFor each dataset you will be provided with a random sample of 5 rows of the dataframe.\\n\\nYou will also be given a json that explains the way these datasets are all connected.\\nEach key is the name of the flow (or dataset connection) and each value is a list of \\noperations that happen inside of the flow. Often, the first action imports a specific dataset\\nin some way. Then the final action exports a new dataset. Both of which exist in the aformentioned\\nlist of datasets Each item in the list of operations has an 'id' which is a unique identifier for the\\noperation. It has a 'type' which explains which operation is being done. It has 'inputs' which is a list \\nof the ids of the inputs to that operation. It has a 'dataset_name' which is the name of the input or \\noutput dataset that is directly associated with that operation. They exist mostly for import and export\\ndata operations.\\n\\nYou will be given a list of descriptions of the operations that are listed under 'type' in \\nthe json. These will provide further context on exactly what is being done to the dataset.\\n\\nUnderstand the relationshipss between the datasets. Given a user query, be prepared to answer which\\ndataset would contain the answer to this query.\\n\\nList of datasets\\n{'metrics':                          Identifier  metric_value         metric_name  \\\\\\n1178    SSEHDD Silver 5000 GB_South      0.051024  mape_underforecast   \\n865   CMSBP White 15K mAh_Northeast      0.051154  mape_underforecast   \\n101     FTH Blue Open Ear_Northeast      0.051695           mape_base   \\n439          CMSBP Pink 5K mAh_West      0.128748   mape_overforecast   \\n58        CMSBP Silver 5K mAh_South      0.235409           mape_base   \\n\\n     prediction_batch_date     model split_type  \\n1178   2025-03-26 17:37:23  Additive    holdout  \\n865    2025-03-26 17:37:23  Additive    holdout  \\n101    2025-03-26 17:37:23  Additive    holdout  \\n439    2025-03-26 17:37:23  Additive    holdout  \\n58     2025-03-26 17:37:23  Additive    holdout  , 'full forecasts':                             Identifier                 Time prediction_type  \\\\\\n40864         CMSBP Pink 25K mAh_South  2018-10-28 00:00:00            real   \\n92156        FTH Pink Wired Buds_South  2021-04-11 00:00:00            real   \\n147256         CMSBP Pink 10K mAh_West  2023-12-03 00:00:00            real   \\n32057          CMSBP Pink 15K mAh_West  2018-05-27 00:00:00            real   \\n79155   SSEHDD Black 1500 GB_Northeast  2020-08-23 00:00:00            real   \\n\\n        Quantity model model_ranking real/pred  identifier_ranking     Region  \\\\\\n40864       74.0  real          real      real               224.0      South   \\n92156      105.0  real          real      real               145.0      South   \\n147256     150.0  real          real      real               193.0       West   \\n32057       99.0  real          real      real                77.0       West   \\n79155      215.0  real          real      real                 6.0  Northeast   \\n\\n       Product                   SKU  TotalRevenue  TotalCost  \\n40864    CMSBP    CMSBP Pink 25K mAh        3234.0    2496.34  \\n92156      FTH   FTH Pink Wired Buds        3906.0    2560.60  \\n147256   CMSBP    CMSBP Pink 10K mAh        2310.0    1649.90  \\n32057    CMSBP    CMSBP Pink 15K mAh        2952.0    2174.64  \\n79155   SSEHDD  SSEHDD Black 1500 GB        6210.0    4608.00  , 'forecasts':                             Identifier                 Time prediction_type  \\\\\\n40864         CMSBP Pink 25K mAh_South  2018-10-28 00:00:00            real   \\n92156        FTH Pink Wired Buds_South  2021-04-11 00:00:00            real   \\n147256         CMSBP Pink 10K mAh_West  2023-12-03 00:00:00            real   \\n32057          CMSBP Pink 15K mAh_West  2018-05-27 00:00:00            real   \\n79155   SSEHDD Black 1500 GB_Northeast  2020-08-23 00:00:00            real   \\n\\n        Quantity model model_ranking real/pred  identifier_ranking  \\n40864       74.0  real          real      real               224.0  \\n92156      105.0  real          real      real               145.0  \\n147256     150.0  real          real      real               193.0  \\n32057       99.0  real          real      real                77.0  \\n79155      215.0  real          real      real                 6.0  , 'metrics1':                           Identifier  metric_value         metric_name  \\\\\\n2037  CMSBP Silver 20K mAh_Northeast      0.075598  mape_underforecast   \\n1978  SSEHDD White 2000 GB_Northeast      0.022117   mape_overforecast   \\n855         CMSBP White 15K mAh_West      0.000000  mape_underforecast   \\n1719   FTH Pink Wired Buds_Northeast      0.026606   mape_overforecast   \\n2019         CMSBP Pink 20K mAh_West      0.206314  mape_underforecast   \\n\\n     prediction_batch_date     model split_type  \\n2037   2025-03-28 12:58:53  Additive    holdout  \\n1978   2025-03-28 12:58:53  Additive    holdout  \\n855    2025-03-26 18:35:29  Additive    holdout  \\n1719   2025-03-28 12:58:53  Additive    holdout  \\n2019   2025-03-28 12:58:53  Additive    holdout  , 'Sales':               Time     Region Product                     SKU  \\\\\\n63585   2021-01-17       West    QCGL    QCGL 16 Inch 8GB RAM   \\n8062    2018-05-27      South   CMSBP     CMSBP Silver 5K mAh   \\n115105  2023-07-09       West     LSK   LSK Rainbow Ergonomic   \\n55238   2020-08-30      South   CMSBP     CMSBP Black 25K mAh   \\n46708   2020-03-29  Northeast     LSK  LSK Rainbow Mechanical   \\n\\n                              Identifier  Quantity  TotalRevenue  TotalCost  \\\\\\n63585          QCGL 16 Inch 8GB RAM_West       132      116380.0   84199.28   \\n8062           CMSBP Silver 5K mAh_South        69        1800.0    1332.60   \\n115105        LSK Rainbow Ergonomic_West       109        7555.5    5286.66   \\n55238          CMSBP Black 25K mAh_South        94        2646.0    1849.68   \\n46708   LSK Rainbow Mechanical_Northeast       133       12262.5    8558.68   \\n\\n        Quantity Base  \\n63585            88.0  \\n8062             60.0  \\n115105           73.0  \\n55238            63.0  \\n46708           109.0  , 'What if':                        Time  prediction_type model_ranking    Quantity  \\\\\\n195096  2024-07-28 00:00:00  predicted_value             1   79.263573   \\n29839   2023-12-24 00:00:00      upper_bound             1  120.000000   \\n151369  2020-04-19 00:00:00             real          real  116.000000   \\n235476  2023-04-02 00:00:00      upper_bound             1  112.000000   \\n177611  2020-02-23 00:00:00             real          real   82.000000   \\n\\n                                   identifier    group Product   Region  \\\\\\n195096    all-QCGL-West-QCGL 15 Inch 32GB RAM  level_3    QCGL     West   \\n29839      all-CMSBP-South-CMSBP Pink 20K mAh  level_3   CMSBP    South   \\n151369  all-QCGL-Midwest-QCGL 13 Inch 4GB RAM  level_3    QCGL  Midwest   \\n235476  all-SSEHDD-South-SSEHDD White 1500 GB  level_3  SSEHDD    South   \\n177611    all-QCGL-South-QCGL 13 Inch 8GB RAM  level_3    QCGL    South   \\n\\n                          SKU  PricePerUnit  CostPerUnit  \\n195096  QCGL 15 Inch 32GB RAM        1680.0      1197.95  \\n29839      CMSBP Pink 20K mAh          39.0        26.56  \\n151369   QCGL 13 Inch 4GB RAM        1000.0       737.43  \\n235476   SSEHDD White 1500 GB          34.5        23.99  \\n177611   QCGL 13 Inch 8GB RAM        1150.0       814.88  , 'full aux forecasts':                             Identifier                 Time prediction_type  \\\\\\n40864         CMSBP Pink 25K mAh_South  2018-10-28 00:00:00            real   \\n92156        FTH Pink Wired Buds_South  2021-04-11 00:00:00            real   \\n147256         CMSBP Pink 10K mAh_West  2023-12-03 00:00:00            real   \\n32057          CMSBP Pink 15K mAh_West  2018-05-27 00:00:00            real   \\n79155   SSEHDD Black 1500 GB_Northeast  2020-08-23 00:00:00            real   \\n\\n        Quantity model model_ranking real/pred  identifier_ranking     Region  \\\\\\n40864       74.0  real          real      real               232.0      South   \\n92156      105.0  real          real      real               120.0      South   \\n147256     150.0  real          real      real               182.0       West   \\n32057       99.0  real          real      real                95.0       West   \\n79155      215.0  real          real      real                 3.0  Northeast   \\n\\n       Product                   SKU  TotalRevenue  TotalCost  \\n40864    CMSBP    CMSBP Pink 25K mAh        3234.0    2496.34  \\n92156      FTH   FTH Pink Wired Buds        3906.0    2560.60  \\n147256   CMSBP    CMSBP Pink 10K mAh        2310.0    1649.90  \\n32057    CMSBP    CMSBP Pink 15K mAh        2952.0    2174.64  \\n79155   SSEHDD  SSEHDD Black 1500 GB        6210.0    4608.00  , 'heatmap data':              Time                               Identifier    Quantity  \\\\\\n53630  2024/03/03      all-CMSBP-South-CMSBP Black 20K mAh   88.000000   \\n55865  2024/03/10  all-LSK-Northeast-LSK Rainbow Ergonomic    1.036746   \\n37360  2024/01/14   all-SSEHDD-South-SSEHDD Silver 1500 GB   74.260047   \\n14966  2023/11/12       all-SSEHDD-West-SSEHDD Red 1500 GB  119.000000   \\n8919   2023/10/22        all-CMSBP-West-CMSBP Pink 20K mAh   98.000000   \\n\\n      decomposition                               identifier Product  \\\\\\n53630           all      all-CMSBP-South-CMSBP Black 20K mAh   CMSBP   \\n55865       Recency  all-LSK-Northeast-LSK Rainbow Ergonomic     LSK   \\n37360         Trend   all-SSEHDD-South-SSEHDD Silver 1500 GB  SSEHDD   \\n14966           all       all-SSEHDD-West-SSEHDD Red 1500 GB  SSEHDD   \\n8919            all        all-CMSBP-West-CMSBP Pink 20K mAh   CMSBP   \\n\\n                         SKU     Region  \\n53630    CMSBP Black 20K mAh      South  \\n55865  LSK Rainbow Ergonomic  Northeast  \\n37360  SSEHDD Silver 1500 GB      South  \\n14966     SSEHDD Red 1500 GB       West  \\n8919      CMSBP Pink 20K mAh       West  , 'aux data':            Time           identifier      value\\n661  2021-03-28  Holidays Promotions   0.000000\\n274  2023-04-09          Temperature  69.637069\\n394  2025-07-27          Temperature  91.036210\\n218  2022-03-13          Temperature  59.491365\\n922  2026-03-29  Holidays Promotions   0.000000, 'All scenario summary':              Time  prediction_type     Region Product                    SKU  \\\\\\n11854  2024-07-28  predicted_value  Northeast  SSEHDD   SSEHDD White 1500 GB   \\n10815  2024-07-07  predicted_value       West    QCGL  QCGL 13 Inch 64GB RAM   \\n15683  2024-10-06  predicted_value    Midwest   CMSBP     CMSBP Pink 10K mAh   \\n20669  2024-12-29  predicted_value  Northeast    QCGL   QCGL 14 Inch 4GB RAM   \\n19746  2024-12-15  predicted_value    Midwest     LSK         LSK Pink Wired   \\n\\n       Base Forecast  Enhanced Forecast  What-If +10% Marketing  \\\\\\n11854          360.0              361.0              371.907646   \\n10815          114.0              110.0              113.257761   \\n15683           95.0               80.0               83.015924   \\n20669          173.0              140.0              171.259924   \\n19746           94.0               95.0              102.251321   \\n\\n       What-If +25% Marketing  What-If New Scenario  \\n11854              378.432264            355.681223  \\n10815              115.053420            108.714792  \\n15683               84.447035             78.957668  \\n20669              174.264449            137.937316  \\n19746              104.014031             93.762231  , 'forecasts with aux':                             Identifier                 Time prediction_type  \\\\\\n40864         CMSBP Pink 25K mAh_South  2018-10-28 00:00:00            real   \\n92156        FTH Pink Wired Buds_South  2021-04-11 00:00:00            real   \\n147256         CMSBP Pink 10K mAh_West  2023-12-03 00:00:00            real   \\n32057          CMSBP Pink 15K mAh_West  2018-05-27 00:00:00            real   \\n79155   SSEHDD Black 1500 GB_Northeast  2020-08-23 00:00:00            real   \\n\\n        Quantity model model_ranking real/pred  identifier_ranking  \\n40864       74.0  real          real      real               232.0  \\n92156      105.0  real          real      real               120.0  \\n147256     150.0  real          real      real               182.0  \\n32057       99.0  real          real      real                95.0  \\n79155      215.0  real          real      real                 3.0  , 'output':              Time  prediction_type     Region Product                    SKU  \\\\\\n11854  2024-07-28  predicted_value  Northeast  SSEHDD   SSEHDD White 1500 GB   \\n10815  2024-07-07  predicted_value       West    QCGL  QCGL 13 Inch 64GB RAM   \\n15683  2024-10-06  predicted_value    Midwest   CMSBP     CMSBP Pink 10K mAh   \\n20669  2024-12-29  predicted_value  Northeast    QCGL   QCGL 14 Inch 4GB RAM   \\n19746  2024-12-15  predicted_value    Midwest     LSK         LSK Pink Wired   \\n\\n       Base Forecast  Enhanced Forecast  What-If +10% Marketing  \\\\\\n11854          360.0              361.0              371.907646   \\n10815          114.0              110.0              113.257761   \\n15683           95.0               80.0               83.015924   \\n20669          173.0              140.0              171.259924   \\n19746           94.0               95.0              102.251321   \\n\\n       What-If +25% Marketing  What-If New Scenario  \\n11854              378.432264            355.681223  \\n10815              115.053420            108.714792  \\n15683               84.447035             78.957668  \\n20669              174.264449            137.937316  \\n19746              104.014031             93.762231  }\\n\\nJson explaining dataset connections:\\n{'Forecast Data': [{'id': 'Facet 0', 'type': 'IMPORTED', 'dataset_name': 'Sales'}, {'id': 'Facet 1', 'type': 'AI_CAST', 'inputs': ['Facet 0']}, {'id': 'Facet 2', 'type': 'EXPORTED', 'inputs': ['Facet 1'], 'dataset_name': 'forecasts'}, {'id': 'Facet 3', 'type': 'EXPORTED', 'inputs': ['Facet 1'], 'dataset_name': 'metrics'}], 'Test2': [{'id': 'Facet 0', 'type': 'IMPORTED', 'dataset_name': 'All scenario summary'}, {'id': 'Facet 1', 'type': 'PYTHON', 'inputs': ['Facet 0']}, {'id': 'Facet 2', 'type': 'EXPORTED', 'inputs': ['Facet 1'], 'dataset_name': 'output'}], 'Combine Info': [{'id': 'Facet 0', 'type': 'IMPORTED', 'dataset_name': 'forecasts'}, {'id': 'Facet 1', 'type': 'IMPORTED', 'dataset_name': 'Sales'}, {'id': 'Facet 2', 'type': 'PYTHON', 'inputs': ['Facet 0', 'Facet 1', 'Facet 4']}, {'id': 'Facet 3', 'type': 'EXPORTED', 'inputs': ['Facet 2'], 'dataset_name': 'full forecasts'}, {'id': 'Facet 4', 'type': 'IMPORTED', 'dataset_name': 'forecasts with aux'}, {'id': 'Facet 5', 'type': 'EXPORTED', 'inputs': ['Facet 2'], 'dataset_name': 'full aux forecasts'}], 'Aux Forecasts': [{'id': 'Facet 0', 'type': 'IMPORTED', 'dataset_name': 'aux data'}, {'id': 'Facet 1', 'type': 'IMPORTED', 'dataset_name': 'Sales'}, {'id': 'Facet 2', 'type': 'AI_CAST', 'inputs': ['Facet 1', 'Facet 4']}, {'id': 'Facet 3', 'type': 'EXPORTED', 'inputs': ['Facet 2'], 'dataset_name': 'forecasts with aux'}, {'id': 'Facet 4', 'type': 'RENAME_COLUMNS', 'inputs': ['Facet 0']}, {'id': 'Facet 5', 'type': 'EXPORTED', 'inputs': ['Facet 2'], 'dataset_name': 'metrics1'}]}\\n\\nDescriptions of operations:\\n{'AI_CAST': 'Forecasting for time series data', 'RENAME_COLUMNS': 'Rename specified columns', 'IMPORTED': 'Import from platform', 'EXPORTED': 'Export data to a file on the ikigai platform', 'PYTHON': 'Input is created by python code'}\\n\\nRemember, respond with the dataset that would contain the answer the user query.\\nConsider carefully how the datasets are used in the context of the connections. If a dataset\\nis not connected to others, it is less likely to be used.\\nChoose the name of dataset from this list: dict_keys(['metrics', 'full forecasts', 'forecasts', 'metrics1', 'Sales', 'What if', 'full aux forecasts', 'heatmap data', 'aux data', 'All scenario summary', 'forecasts with aux', 'output'])\\nReturn a json in the following structure. { 'dataset': 'name of dataset' }\\n\"),\n",
       " ('human', 'How do metrics for aux data compare in q1 vs q2?')]"
      ]
     },
     "execution_count": 44,
     "metadata": {},
     "output_type": "execute_result"
    }
   ],
   "source": [
    "messages"
   ]
  },
  {
   "cell_type": "code",
   "execution_count": 45,
   "metadata": {},
   "outputs": [],
   "source": [
    "##### USE LLM HERE to create metadata for explaining each of the parts of the dataset\n",
    "# maybe add more information about the dataset\n",
    "# add the datatypes of each column\n",
    "# if they are categorical, then tell the llm that these are the ok columns to filter by \n",
    "# If categorical, provide the categories to filter by\n",
    "# also maybe be able to filter by numbers? and time? but llm would be better at generating that\n",
    "# Provide the unique values for the columns"
   ]
  },
  {
   "cell_type": "code",
   "execution_count": 46,
   "metadata": {},
   "outputs": [],
   "source": [
    "llm = ChatOpenAI(api_key=OPENAI_API_KEY, model_kwargs={\"response_format\": {\"type\": \"json_object\"}})\n",
    "answer = llm.invoke(messages).content"
   ]
  },
  {
   "cell_type": "code",
   "execution_count": 47,
   "metadata": {},
   "outputs": [],
   "source": [
    "dataset_name = json.loads(answer)['dataset']"
   ]
  },
  {
   "cell_type": "markdown",
   "metadata": {},
   "source": [
    "### Once have the dataset, see if code can be written"
   ]
  },
  {
   "cell_type": "code",
   "execution_count": 48,
   "metadata": {},
   "outputs": [
    {
     "data": {
      "text/plain": [
       "'metrics1'"
      ]
     },
     "execution_count": 48,
     "metadata": {},
     "output_type": "execute_result"
    }
   ],
   "source": [
    "dataset_name"
   ]
  },
  {
   "cell_type": "code",
   "execution_count": 466,
   "metadata": {},
   "outputs": [
    {
     "data": {
      "text/plain": [
       "'How do the forecasts in q1 compare to the forecasts in q2?'"
      ]
     },
     "execution_count": 466,
     "metadata": {},
     "output_type": "execute_result"
    }
   ],
   "source": [
    "user_query"
   ]
  },
  {
   "cell_type": "code",
   "execution_count": 467,
   "metadata": {},
   "outputs": [],
   "source": [
    "full_target_df = datasets[dataset_name].df()"
   ]
  },
  {
   "cell_type": "code",
   "execution_count": 468,
   "metadata": {},
   "outputs": [
    {
     "data": {
      "text/html": [
       "<div>\n",
       "<style scoped>\n",
       "    .dataframe tbody tr th:only-of-type {\n",
       "        vertical-align: middle;\n",
       "    }\n",
       "\n",
       "    .dataframe tbody tr th {\n",
       "        vertical-align: top;\n",
       "    }\n",
       "\n",
       "    .dataframe thead th {\n",
       "        text-align: right;\n",
       "    }\n",
       "</style>\n",
       "<table border=\"1\" class=\"dataframe\">\n",
       "  <thead>\n",
       "    <tr style=\"text-align: right;\">\n",
       "      <th></th>\n",
       "      <th>Identifier</th>\n",
       "      <th>Time</th>\n",
       "      <th>prediction_type</th>\n",
       "      <th>Quantity</th>\n",
       "      <th>model</th>\n",
       "      <th>model_ranking</th>\n",
       "      <th>real/pred</th>\n",
       "      <th>identifier_ranking</th>\n",
       "      <th>Region</th>\n",
       "      <th>Product</th>\n",
       "      <th>SKU</th>\n",
       "      <th>TotalRevenue</th>\n",
       "      <th>TotalCost</th>\n",
       "    </tr>\n",
       "  </thead>\n",
       "  <tbody>\n",
       "    <tr>\n",
       "      <th>40864</th>\n",
       "      <td>CMSBP Pink 25K mAh_South</td>\n",
       "      <td>2018-10-28 00:00:00</td>\n",
       "      <td>real</td>\n",
       "      <td>74.0</td>\n",
       "      <td>real</td>\n",
       "      <td>real</td>\n",
       "      <td>real</td>\n",
       "      <td>224.0</td>\n",
       "      <td>South</td>\n",
       "      <td>CMSBP</td>\n",
       "      <td>CMSBP Pink 25K mAh</td>\n",
       "      <td>3234.0</td>\n",
       "      <td>2496.34</td>\n",
       "    </tr>\n",
       "    <tr>\n",
       "      <th>92156</th>\n",
       "      <td>FTH Pink Wired Buds_South</td>\n",
       "      <td>2021-04-11 00:00:00</td>\n",
       "      <td>real</td>\n",
       "      <td>105.0</td>\n",
       "      <td>real</td>\n",
       "      <td>real</td>\n",
       "      <td>real</td>\n",
       "      <td>145.0</td>\n",
       "      <td>South</td>\n",
       "      <td>FTH</td>\n",
       "      <td>FTH Pink Wired Buds</td>\n",
       "      <td>3906.0</td>\n",
       "      <td>2560.60</td>\n",
       "    </tr>\n",
       "    <tr>\n",
       "      <th>147256</th>\n",
       "      <td>CMSBP Pink 10K mAh_West</td>\n",
       "      <td>2023-12-03 00:00:00</td>\n",
       "      <td>real</td>\n",
       "      <td>150.0</td>\n",
       "      <td>real</td>\n",
       "      <td>real</td>\n",
       "      <td>real</td>\n",
       "      <td>193.0</td>\n",
       "      <td>West</td>\n",
       "      <td>CMSBP</td>\n",
       "      <td>CMSBP Pink 10K mAh</td>\n",
       "      <td>2310.0</td>\n",
       "      <td>1649.90</td>\n",
       "    </tr>\n",
       "    <tr>\n",
       "      <th>32057</th>\n",
       "      <td>CMSBP Pink 15K mAh_West</td>\n",
       "      <td>2018-05-27 00:00:00</td>\n",
       "      <td>real</td>\n",
       "      <td>99.0</td>\n",
       "      <td>real</td>\n",
       "      <td>real</td>\n",
       "      <td>real</td>\n",
       "      <td>77.0</td>\n",
       "      <td>West</td>\n",
       "      <td>CMSBP</td>\n",
       "      <td>CMSBP Pink 15K mAh</td>\n",
       "      <td>2952.0</td>\n",
       "      <td>2174.64</td>\n",
       "    </tr>\n",
       "    <tr>\n",
       "      <th>79155</th>\n",
       "      <td>SSEHDD Black 1500 GB_Northeast</td>\n",
       "      <td>2020-08-23 00:00:00</td>\n",
       "      <td>real</td>\n",
       "      <td>215.0</td>\n",
       "      <td>real</td>\n",
       "      <td>real</td>\n",
       "      <td>real</td>\n",
       "      <td>6.0</td>\n",
       "      <td>Northeast</td>\n",
       "      <td>SSEHDD</td>\n",
       "      <td>SSEHDD Black 1500 GB</td>\n",
       "      <td>6210.0</td>\n",
       "      <td>4608.00</td>\n",
       "    </tr>\n",
       "  </tbody>\n",
       "</table>\n",
       "</div>"
      ],
      "text/plain": [
       "                            Identifier                 Time prediction_type  \\\n",
       "40864         CMSBP Pink 25K mAh_South  2018-10-28 00:00:00            real   \n",
       "92156        FTH Pink Wired Buds_South  2021-04-11 00:00:00            real   \n",
       "147256         CMSBP Pink 10K mAh_West  2023-12-03 00:00:00            real   \n",
       "32057          CMSBP Pink 15K mAh_West  2018-05-27 00:00:00            real   \n",
       "79155   SSEHDD Black 1500 GB_Northeast  2020-08-23 00:00:00            real   \n",
       "\n",
       "        Quantity model model_ranking real/pred  identifier_ranking     Region  \\\n",
       "40864       74.0  real          real      real               224.0      South   \n",
       "92156      105.0  real          real      real               145.0      South   \n",
       "147256     150.0  real          real      real               193.0       West   \n",
       "32057       99.0  real          real      real                77.0       West   \n",
       "79155      215.0  real          real      real                 6.0  Northeast   \n",
       "\n",
       "       Product                   SKU  TotalRevenue  TotalCost  \n",
       "40864    CMSBP    CMSBP Pink 25K mAh        3234.0    2496.34  \n",
       "92156      FTH   FTH Pink Wired Buds        3906.0    2560.60  \n",
       "147256   CMSBP    CMSBP Pink 10K mAh        2310.0    1649.90  \n",
       "32057    CMSBP    CMSBP Pink 15K mAh        2952.0    2174.64  \n",
       "79155   SSEHDD  SSEHDD Black 1500 GB        6210.0    4608.00  "
      ]
     },
     "execution_count": 468,
     "metadata": {},
     "output_type": "execute_result"
    }
   ],
   "source": [
    "sampled_dataset_dict[dataset_name]"
   ]
  },
  {
   "cell_type": "code",
   "execution_count": 469,
   "metadata": {},
   "outputs": [
    {
     "data": {
      "text/plain": [
       "\"\\nSo if you do not see\\nsplit_type == 'aux' in the input, do NOT filter for it.\\n\""
      ]
     },
     "execution_count": 469,
     "metadata": {},
     "output_type": "execute_result"
    }
   ],
   "source": [
    "#### RANDOM STUFF I'VE WRITTEN DOWN\n",
    "\"\"\"\n",
    "So if you do not see\n",
    "split_type == 'aux' in the input, do NOT filter for it.\n",
    "\"\"\""
   ]
  },
  {
   "cell_type": "code",
   "execution_count": 470,
   "metadata": {},
   "outputs": [],
   "source": [
    "# Configure messages to write code properly\n",
    "messages = []\n",
    "system_context_string = f\"\"\"\n",
    "You will be given a question and a sample of a pandas dataframe.\n",
    "Write code in python that takes in a dataframe and outputs numeric values that\n",
    "are helpful in answering the question. The output should also contain some\n",
    "additional relevant details. Ensure that you are careful of datatypes when \n",
    "writing code. Do not filter the dataframe in your code for values you do not \n",
    "explicitly see given in the dataframe sample below. Thank you.\n",
    "Here is the dataframe: {sampled_dataset_dict[dataset_name]}\n",
    "Return a function with appropriate docstring in the following format:\n",
    "    ```python\n",
    "        {{function body}}\n",
    "    ```\n",
    "\"\"\"\n",
    "messages.append((\"system\", system_context_string))\n",
    "messages.append((\"human\", user_query))"
   ]
  },
  {
   "cell_type": "code",
   "execution_count": 471,
   "metadata": {},
   "outputs": [],
   "source": [
    "llm = ChatOpenAI(api_key=OPENAI_API_KEY, temperature=0, model=\"gpt-4o\")\n",
    "answer = llm.invoke(messages).content"
   ]
  },
  {
   "cell_type": "code",
   "execution_count": 472,
   "metadata": {},
   "outputs": [],
   "source": [
    "generated_code = answer.strip().removeprefix(\"```python\\n\").removesuffix(\"\\n```\")"
   ]
  },
  {
   "cell_type": "code",
   "execution_count": 473,
   "metadata": {},
   "outputs": [
    {
     "data": {
      "text/plain": [
       "'import pandas as pd\\n\\ndef compare_forecasts_q1_q2(df):\\n    \"\"\"\\n    Compares the total revenue and total cost forecasts for Q1 and Q2.\\n    \\n    Parameters:\\n    df (pd.DataFrame): DataFrame containing columns \\'Time\\', \\'TotalRevenue\\', and \\'TotalCost\\'.\\n    \\n    Returns:\\n    dict: A dictionary with total revenue and total cost for Q1 and Q2.\\n    \"\"\"\\n    # Convert \\'Time\\' column to datetime\\n    df[\\'Time\\'] = pd.to_datetime(df[\\'Time\\'])\\n    \\n    # Extract month from \\'Time\\' column\\n    df[\\'Month\\'] = df[\\'Time\\'].dt.month\\n    \\n    # Define Q1 and Q2 months\\n    q1_months = [1, 2, 3]\\n    q2_months = [4, 5, 6]\\n    \\n    # Calculate total revenue and total cost for Q1\\n    q1_data = df[df[\\'Month\\'].isin(q1_months)]\\n    q1_total_revenue = q1_data[\\'TotalRevenue\\'].sum()\\n    q1_total_cost = q1_data[\\'TotalCost\\'].sum()\\n    \\n    # Calculate total revenue and total cost for Q2\\n    q2_data = df[df[\\'Month\\'].isin(q2_months)]\\n    q2_total_revenue = q2_data[\\'TotalRevenue\\'].sum()\\n    q2_total_cost = q2_data[\\'TotalCost\\'].sum()\\n    \\n    return {\\n        \\'Q1\\': {\\n            \\'TotalRevenue\\': q1_total_revenue,\\n            \\'TotalCost\\': q1_total_cost\\n        },\\n        \\'Q2\\': {\\n            \\'TotalRevenue\\': q2_total_revenue,\\n            \\'TotalCost\\': q2_total_cost\\n        }\\n    }'"
      ]
     },
     "execution_count": 473,
     "metadata": {},
     "output_type": "execute_result"
    }
   ],
   "source": [
    "generated_code"
   ]
  },
  {
   "cell_type": "code",
   "execution_count": 474,
   "metadata": {},
   "outputs": [
    {
     "name": "stdout",
     "output_type": "stream",
     "text": [
      "import pandas as pd\n",
      "\n",
      "def compare_forecasts_q1_q2(df):\n",
      "    \"\"\"\n",
      "    Compares the total revenue and total cost forecasts for Q1 and Q2.\n",
      "    \n",
      "    Parameters:\n",
      "    df (pd.DataFrame): DataFrame containing columns 'Time', 'TotalRevenue', and 'TotalCost'.\n",
      "    \n",
      "    Returns:\n",
      "    dict: A dictionary with total revenue and total cost for Q1 and Q2.\n",
      "    \"\"\"\n",
      "    # Convert 'Time' column to datetime\n",
      "    df['Time'] = pd.to_datetime(df['Time'])\n",
      "    \n",
      "    # Extract month from 'Time' column\n",
      "    df['Month'] = df['Time'].dt.month\n",
      "    \n",
      "    # Define Q1 and Q2 months\n",
      "    q1_months = [1, 2, 3]\n",
      "    q2_months = [4, 5, 6]\n",
      "    \n",
      "    # Calculate total revenue and total cost for Q1\n",
      "    q1_data = df[df['Month'].isin(q1_months)]\n",
      "    q1_total_revenue = q1_data['TotalRevenue'].sum()\n",
      "    q1_total_cost = q1_data['TotalCost'].sum()\n",
      "    \n",
      "    # Calculate total revenue and total cost for Q2\n",
      "    q2_data = df[df['Month'].isin(q2_months)]\n",
      "    q2_total_revenue = q2_data['TotalRevenue'].sum()\n",
      "    q2_total_cost = q2_data['TotalCost'].sum()\n",
      "    \n",
      "    return {\n",
      "        'Q1': {\n",
      "            'TotalRevenue': q1_total_revenue,\n",
      "            'TotalCost': q1_total_cost\n",
      "        },\n",
      "        'Q2': {\n",
      "            'TotalRevenue': q2_total_revenue,\n",
      "            'TotalCost': q2_total_cost\n",
      "        }\n",
      "    }\n"
     ]
    }
   ],
   "source": [
    "print(generated_code)"
   ]
  },
  {
   "cell_type": "code",
   "execution_count": 475,
   "metadata": {},
   "outputs": [],
   "source": [
    "### Add a step here where the logs and user output has an english explanation of the code"
   ]
  },
  {
   "cell_type": "code",
   "execution_count": 476,
   "metadata": {},
   "outputs": [],
   "source": [
    "import ast\n",
    "\n",
    "def extract_function_names(code_str):\n",
    "    \"\"\"\n",
    "    Parses a Python code string and returns a list of function names defined in it.\n",
    "    \"\"\"\n",
    "    tree = ast.parse(code_str)\n",
    "    return [node.name for node in tree.body if isinstance(node, ast.FunctionDef)]"
   ]
  },
  {
   "cell_type": "code",
   "execution_count": 477,
   "metadata": {},
   "outputs": [],
   "source": [
    "local_vars = {}\n",
    "exec(generated_code, globals(), local_vars)\n",
    "try:\n",
    "    function_output = local_vars[extract_function_names(generated_code)[0]]\n",
    "except:\n",
    "    print(\"Function generation didn't work\")"
   ]
  },
  {
   "cell_type": "code",
   "execution_count": 478,
   "metadata": {},
   "outputs": [],
   "source": [
    "try:\n",
    "    output = function_output(full_target_df)\n",
    "except:\n",
    "    print(\"Running code on df didn't work\")"
   ]
  },
  {
   "cell_type": "code",
   "execution_count": 479,
   "metadata": {},
   "outputs": [
    {
     "data": {
      "text/plain": [
       "{'Q1': {'TotalRevenue': 1152568862.0, 'TotalCost': 835387537.43},\n",
       " 'Q2': {'TotalRevenue': 835358316.0, 'TotalCost': 605114069.8199999}}"
      ]
     },
     "execution_count": 479,
     "metadata": {},
     "output_type": "execute_result"
    }
   ],
   "source": [
    "output"
   ]
  },
  {
   "cell_type": "markdown",
   "metadata": {},
   "source": [
    "### Feed in code, a sample of df and then the outputs to llm"
   ]
  },
  {
   "cell_type": "code",
   "execution_count": 480,
   "metadata": {},
   "outputs": [],
   "source": [
    "# Configure messages to write code properly\n",
    "messages = []\n",
    "system_context_string = f\"\"\"\n",
    "You will be given a dataframe, code that runs on this dataframe,\n",
    "and the output of that code. You will use this output and information\n",
    "about what the code does to answer the user query.\n",
    "Dataframe sample: {sampled_dataset_dict[dataset_name]}\n",
    "Code: {generated_code}\n",
    "Output of code: {output}\n",
    "Answer the user query with an explanation of how the numbers were generated.\n",
    "\"\"\"\n",
    "messages.append((\"system\", system_context_string))\n",
    "messages.append((\"human\", user_query))"
   ]
  },
  {
   "cell_type": "code",
   "execution_count": 481,
   "metadata": {},
   "outputs": [],
   "source": [
    "llm = ChatOpenAI(api_key=OPENAI_API_KEY)\n",
    "answer = llm.invoke(messages).content"
   ]
  },
  {
   "cell_type": "code",
   "execution_count": 482,
   "metadata": {},
   "outputs": [
    {
     "name": "stdout",
     "output_type": "stream",
     "text": [
      "The forecasts in Q1 and Q2 are compared based on the total revenue and total cost for each quarter.\n",
      "\n",
      "For Q1:\n",
      "- Total Revenue: $1,152,568,862.0\n",
      "- Total Cost: $835,387,537.43\n",
      "\n",
      "For Q2:\n",
      "- Total Revenue: $835,358,316.0\n",
      "- Total Cost: $605,114,069.82\n",
      "\n",
      "Comparing the two quarters:\n",
      "- Q1 had a higher total revenue ($1,152,568,862.0) compared to Q2 ($835,358,316.0).\n",
      "- Q1 also had a higher total cost ($835,387,537.43) compared to Q2 ($605,114,069.82).\n",
      "\n",
      "In summary, both total revenue and total cost were higher in Q1 compared to Q2.\n"
     ]
    }
   ],
   "source": [
    "print(answer)"
   ]
  },
  {
   "cell_type": "code",
   "execution_count": null,
   "metadata": {},
   "outputs": [],
   "source": []
  },
  {
   "cell_type": "code",
   "execution_count": null,
   "metadata": {},
   "outputs": [],
   "source": []
  },
  {
   "cell_type": "code",
   "execution_count": null,
   "metadata": {},
   "outputs": [],
   "source": []
  }
 ],
 "metadata": {
  "kernelspec": {
   "display_name": "curr_ikigai",
   "language": "python",
   "name": "python3"
  },
  "language_info": {
   "codemirror_mode": {
    "name": "ipython",
    "version": 3
   },
   "file_extension": ".py",
   "mimetype": "text/x-python",
   "name": "python",
   "nbconvert_exporter": "python",
   "pygments_lexer": "ipython3",
   "version": "3.9.21"
  }
 },
 "nbformat": 4,
 "nbformat_minor": 2
}
