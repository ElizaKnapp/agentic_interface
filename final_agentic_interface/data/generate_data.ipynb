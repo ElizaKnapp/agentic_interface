{
 "cells": [
  {
   "cell_type": "markdown",
   "metadata": {},
   "source": [
    "### Create the UID name mapping (this code won't run, but it is here for reference)"
   ]
  },
  {
   "cell_type": "code",
   "execution_count": null,
   "metadata": {},
   "outputs": [],
   "source": [
    "import ikigai_facet as ifacet\n",
    "from ikigai_network.utils.message_utils import facet_specs_to_dict\n",
    "import pandas as pd"
   ]
  },
  {
   "cell_type": "code",
   "execution_count": null,
   "metadata": {},
   "outputs": [],
   "source": [
    "facet_spec = facet_specs_to_dict(ifacet.get_spec_catalog())\n",
    "uids = []\n",
    "names = []\n",
    "for chain_group in facet_spec.keys():\n",
    "    for facet_group in facet_spec[chain_group].keys():\n",
    "        for facet_type in facet_spec[chain_group][facet_group].keys():\n",
    "            if not facet_spec[chain_group][facet_group][facet_type][\n",
    "                \"is_hidden\"\n",
    "            ]:\n",
    "                uids.append(facet_spec[chain_group][facet_group][facet_type][\n",
    "                        \"facet_info\"\n",
    "                    ][\"facet_uid\"])\n",
    "                names.append(facet_spec[chain_group][facet_group][facet_type][\"facet_info\"][\"facet_type\"])"
   ]
  },
  {
   "cell_type": "code",
   "execution_count": null,
   "metadata": {},
   "outputs": [],
   "source": [
    "final_df = pd.DataFrame({\n",
    "    \"UID\": uids,\n",
    "    \"Facet Name\": names\n",
    "})\n",
    "final_df.to_csv(\"uid_to_name.csv\", index=False)"
   ]
  }
 ],
 "metadata": {
  "language_info": {
   "name": "python"
  }
 },
 "nbformat": 4,
 "nbformat_minor": 2
}
